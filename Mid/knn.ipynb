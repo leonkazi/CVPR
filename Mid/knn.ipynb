{
 "cells": [
  {
   "cell_type": "code",
   "execution_count": 22,
   "metadata": {
    "executionInfo": {
     "elapsed": 394,
     "status": "ok",
     "timestamp": 1731694649983,
     "user": {
      "displayName": "Farha Nammi",
      "userId": "02826514319298353859"
     },
     "user_tz": -360
    },
    "id": "bD2qE7G_S4d3"
   },
   "outputs": [],
   "source": [
    "import os\n",
    "import cv2\n",
    "import numpy as np\n",
    "import pandas as pd\n",
    "import matplotlib.pyplot as plt\n",
    "from sklearn.model_selection import KFold\n",
    "from sklearn.metrics import accuracy_score\n",
    "from collections import Counter"
   ]
  },
  {
   "cell_type": "markdown",
   "metadata": {
    "id": "2Fsa1qnOWCJy"
   },
   "source": [
    "Load and Preprocess the Dataset"
   ]
  },
  {
   "cell_type": "code",
   "execution_count": 2,
   "metadata": {
    "executionInfo": {
     "elapsed": 7,
     "status": "ok",
     "timestamp": 1731692061420,
     "user": {
      "displayName": "Farha Nammi",
      "userId": "02826514319298353859"
     },
     "user_tz": -360
    },
    "id": "O_zhVnfZW0N6"
   },
   "outputs": [],
   "source": [
    "from google.colab import drive"
   ]
  },
  {
   "cell_type": "markdown",
   "metadata": {
    "id": "meB9S88gXbVK"
   },
   "source": [
    "Mount and load dataset\n"
   ]
  },
  {
   "cell_type": "code",
   "execution_count": 3,
   "metadata": {
    "colab": {
     "base_uri": "https://localhost:8080/"
    },
    "executionInfo": {
     "elapsed": 3059,
     "status": "ok",
     "timestamp": 1731692064473,
     "user": {
      "displayName": "Farha Nammi",
      "userId": "02826514319298353859"
     },
     "user_tz": -360
    },
    "id": "lqoLtCEHX986",
    "outputId": "1c13cd99-bbe3-456b-f6fe-420c0da85d06"
   },
   "outputs": [
    {
     "name": "stdout",
     "output_type": "stream",
     "text": [
      "Drive already mounted at /content/drive; to attempt to forcibly remount, call drive.mount(\"/content/drive\", force_remount=True).\n"
     ]
    }
   ],
   "source": [
    "drive.mount('/content/drive')"
   ]
  },
  {
   "cell_type": "code",
   "execution_count": 4,
   "metadata": {
    "executionInfo": {
     "elapsed": 4,
     "status": "ok",
     "timestamp": 1731692064474,
     "user": {
      "displayName": "Farha Nammi",
      "userId": "02826514319298353859"
     },
     "user_tz": -360
    },
    "id": "xowxlRsAYPia"
   },
   "outputs": [],
   "source": [
    "import pandas as pd"
   ]
  },
  {
   "cell_type": "markdown",
   "metadata": {},
   "source": []
  },
  {
   "cell_type": "code",
   "execution_count": null,
   "metadata": {
    "executionInfo": {
     "elapsed": 3,
     "status": "ok",
     "timestamp": 1731692064474,
     "user": {
      "displayName": "Farha Nammi",
      "userId": "02826514319298353859"
     },
     "user_tz": -360
    },
    "id": "p5xXXN0PZ3ui"
   },
   "outputs": [],
   "source": [
    "DATA_DIR=('/content/drive/MyDrive/WildAnimals')"
   ]
  },
  {
   "cell_type": "code",
   "execution_count": 6,
   "metadata": {
    "executionInfo": {
     "elapsed": 3,
     "status": "ok",
     "timestamp": 1731692064474,
     "user": {
      "displayName": "Farha Nammi",
      "userId": "02826514319298353859"
     },
     "user_tz": -360
    },
    "id": "sm92zGOQfywC"
   },
   "outputs": [],
   "source": [
    "def load_image(DATA_DIR):\n",
    "  catagories=os.listdir(DATA_DIR)\n",
    "  return catagories"
   ]
  },
  {
   "cell_type": "markdown",
   "metadata": {
    "id": "Xxg2NQVrjEAa"
   },
   "source": [
    "ConveGrey scale conversion and Flatten Images for k-NN"
   ]
  },
  {
   "cell_type": "code",
   "execution_count": null,
   "metadata": {
    "executionInfo": {
     "elapsed": 3,
     "status": "ok",
     "timestamp": 1731692064474,
     "user": {
      "displayName": "Farha Nammi",
      "userId": "02826514319298353859"
     },
     "user_tz": -360
    },
    "id": "OrHYRC_RuejU"
   },
   "outputs": [],
   "source": [
    "def load_images_and_labels(data_dir, target_size=(64, 64)):\n",
    "    data, labels = [], []\n",
    "    categories = os.listdir(data_dir)\n",
    "    for category in categories:\n",
    "        category_path = os.path.join(data_dir, category)\n",
    "        label = categories.index(category)\n",
    "        for file_name in os.listdir(category_path):\n",
    "            file_path = os.path.join(category_path, file_name)\n",
    "            try:\n",
    "                img = cv2.imread(file_path, cv2.IMREAD_GRAYSCALE) \n",
    "                img = cv2.resize(img, target_size)\n",
    "                data.append(img.flatten())\n",
    "                labels.append(label)\n",
    "            except Exception as e:\n",
    "                print(f\"Error loading image {file_path}: {e}\")\n",
    "    return np.array(data), np.array(labels)"
   ]
  },
  {
   "cell_type": "code",
   "execution_count": 8,
   "metadata": {
    "colab": {
     "base_uri": "https://localhost:8080/"
    },
    "executionInfo": {
     "elapsed": 6404,
     "status": "ok",
     "timestamp": 1731692070875,
     "user": {
      "displayName": "Farha Nammi",
      "userId": "02826514319298353859"
     },
     "user_tz": -360
    },
    "id": "7xQzkJlcwT-a",
    "outputId": "e2a2e4ca-0346-411e-8962-e36c9f25e563"
   },
   "outputs": [
    {
     "name": "stdout",
     "output_type": "stream",
     "text": [
      "Data loaded successfully!\n",
      "Image Shape: (170, 4096), Labels Shape: (170,)\n"
     ]
    }
   ],
   "source": [
    "images, labels = load_images_and_labels(DATA_DIR)\n",
    "print(\"Data loaded successfully!\")\n",
    "print(f\"Image Shape: {images.shape}, Labels Shape: {labels.shape}\")\n",
    "\n"
   ]
  },
  {
   "cell_type": "markdown",
   "metadata": {
    "id": "jhBH0rdAxjfD"
   },
   "source": [
    "Define the Euclidean Distance Function"
   ]
  },
  {
   "cell_type": "code",
   "execution_count": 9,
   "metadata": {
    "executionInfo": {
     "elapsed": 5,
     "status": "ok",
     "timestamp": 1731692070876,
     "user": {
      "displayName": "Farha Nammi",
      "userId": "02826514319298353859"
     },
     "user_tz": -360
    },
    "id": "11TvQ-eExpiT"
   },
   "outputs": [],
   "source": [
    "def euclidean_distance(x1, x2):\n",
    "    return np.sqrt(np.sum((x1 - x2) ** 2))\n"
   ]
  },
  {
   "cell_type": "markdown",
   "metadata": {
    "id": "9per_Aiax98D"
   },
   "source": [
    " Implement k-NN Prediction"
   ]
  },
  {
   "cell_type": "code",
   "execution_count": 19,
   "metadata": {
    "executionInfo": {
     "elapsed": 412,
     "status": "ok",
     "timestamp": 1731693745204,
     "user": {
      "displayName": "Farha Nammi",
      "userId": "02826514319298353859"
     },
     "user_tz": -360
    },
    "id": "AwWnqdJAyRRF"
   },
   "outputs": [],
   "source": [
    "def knn_predict(test_sample, train_data, train_labels, k):\n",
    "    distances = [euclidean_distance(test_sample, x) for x in train_data]\n",
    "    k_neighbors = np.argsort(distances)[:k]\n",
    "    k_neighbor_labels = [train_labels[i] for i in k_neighbors]\n",
    "    most_common = Counter(k_neighbor_labels).most_common(1)\n",
    "    return most_common[0][0]\n"
   ]
  },
  {
   "cell_type": "markdown",
   "metadata": {
    "id": "IMgcrlDPyYdr"
   },
   "source": [
    "Perform 5-Fold Cross-Validation for Each K"
   ]
  },
  {
   "cell_type": "code",
   "execution_count": 11,
   "metadata": {
    "executionInfo": {
     "elapsed": 4,
     "status": "ok",
     "timestamp": 1731692070876,
     "user": {
      "displayName": "Farha Nammi",
      "userId": "02826514319298353859"
     },
     "user_tz": -360
    },
    "id": "6E0Yo6Dy0geU"
   },
   "outputs": [],
   "source": [
    "def knn_cross_validation(X, y, k_values):\n",
    "    kf = KFold(n_splits=5)\n",
    "    avg_accuracies = []\n",
    "\n",
    "    for k in k_values:\n",
    "        fold_accuracies = []\n",
    "\n",
    "        for train_index, val_index in kf.split(X):\n",
    "            X_train, X_val = X[train_index], X[val_index]\n",
    "            y_train, y_val = y[train_index], y[val_index]\n",
    "\n",
    "            correct_predictions = 0\n",
    "            for i, test_sample in enumerate(X_val):\n",
    "                prediction = knn_predict(test_sample, X_train, y_train, k)\n",
    "                if prediction == y_val[i]:\n",
    "                    correct_predictions += 1\n",
    "\n",
    "            fold_accuracy = correct_predictions / len(y_val)\n",
    "            fold_accuracies.append(fold_accuracy)\n",
    "\n",
    "        avg_accuracy = np.mean(fold_accuracies)\n",
    "        avg_accuracies.append(avg_accuracy)\n",
    "\n",
    "    return avg_accuracies\n"
   ]
  },
  {
   "cell_type": "markdown",
   "metadata": {
    "id": "mTBsIYaaCLVV"
   },
   "source": [
    "Cross-validation KNN"
   ]
  },
  {
   "cell_type": "code",
   "execution_count": null,
   "metadata": {
    "executionInfo": {
     "elapsed": 2037,
     "status": "ok",
     "timestamp": 1731694658035,
     "user": {
      "displayName": "Farha Nammi",
      "userId": "02826514319298353859"
     },
     "user_tz": -360
    },
    "id": "WnLXXyyBCRuU"
   },
   "outputs": [],
   "source": [
    "k_values = [1, 3, 5, 7, 9]  # Test different k values\n",
    "avg_accuracies = knn_cross_validation(images, labels, k_values)"
   ]
  },
  {
   "cell_type": "code",
   "execution_count": null,
   "metadata": {},
   "outputs": [],
   "source": [
    "Plot the Average Accuracy vs. K"
   ]
  },
  {
   "cell_type": "code",
   "execution_count": null,
   "metadata": {},
   "outputs": [],
   "source": [
    "\n",
    "plt.figure(figsize=(10, 6))\n",
    "plt.plot(k_values, avg_accuracies, marker='o', color='b', label='Average Accuracy')\n",
    "plt.xlabel(\"Number of Neighbors K\")\n",
    "plt.ylabel(\"Average Accuracy\")\n",
    "plt.title(\"k-NN Classification Accuracy vs. Number of Neighbors (K)\")\n",
    "plt.legend()\n",
    "plt.grid(True)\n",
    "plt.show()\n"
   ]
  },
  {
   "cell_type": "markdown",
   "metadata": {
    "id": "w0cvcAvIDL2U"
   },
   "source": [
    " Plot the Average Accuracy vs. K"
   ]
  },
  {
   "cell_type": "code",
   "execution_count": null,
   "metadata": {
    "colab": {
     "base_uri": "https://localhost:8080/",
     "height": 559
    },
    "executionInfo": {
     "elapsed": 724,
     "status": "ok",
     "timestamp": 1731694865524,
     "user": {
      "displayName": "Farha Nammi",
      "userId": "02826514319298353859"
     },
     "user_tz": -360
    },
    "id": "XrnU3q7zDjua",
    "outputId": "20158657-9fc8-4ec6-b108-a9765d2767a5"
   },
   "outputs": [
    {
     "name": "stdout",
     "output_type": "stream",
     "text": [
      "Average accuracy for k=1: 0.0235\n",
      "Average accuracy for k=3: 0.0176\n",
      "Average accuracy for k=5: 0.0235\n",
      "Average accuracy for k=7: 0.0059\n",
      "Average accuracy for k=9: 0.0118\n"
     ]
    },
    {
     "data": {
      "image/png": "[encoded data removed]",
      "text/plain": [
       "<Figure size 640x480 with 1 Axes>"
      ]
     },
     "metadata": {},
     "output_type": "display_data"
    }
   ],
   "source": [
    "for k, accuracy in zip(k_values, avg_accuracies):\n",
    "    print(f\"Average accuracy for k={k}: {accuracy:.4f}\")\n",
    "\n",
    "# Optionally, plot the results\n",
    "plt.plot(k_values, avg_accuracies, marker='o')\n",
    "plt.title('k-NN Cross-Validation Accuracy for Different k Values')\n",
    "plt.xlabel('k (Number of Neighbors)')\n",
    "plt.ylabel('Average Accuracy')\n",
    "plt.grid(True)\n",
    "plt.show()"
   ]
  }
 ],
 "metadata": {
  "colab": {
   "authorship_tag": "ABX9TyPqqYWOY7iXNXSnfj4MzU7W",
   "provenance": []
  },
  "kernelspec": {
   "display_name": "Python 3",
   "name": "python3"
  },
  "language_info": {
   "name": "python"
  }
 },
 "nbformat": 4,
 "nbformat_minor": 0
}
